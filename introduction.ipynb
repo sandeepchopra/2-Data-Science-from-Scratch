{
 "cells": [
  {
   "cell_type": "code",
   "execution_count": null,
   "metadata": {
    "collapsed": true
   },
   "outputs": [],
   "source": [
    "from __future__ import division"
   ]
  },
  {
   "cell_type": "code",
   "execution_count": 1,
   "metadata": {
    "collapsed": true
   },
   "outputs": [],
   "source": [
    "#***************************************************************************************************\n",
    "# **********************Chapter 1. Introduction****************************************************\n",
    "#***************************************************************************************************\n",
    "\n",
    "users = [\n",
    "{ \"id\": 0, \"name\": \"Hero\" },\n",
    "{ \"id\": 1, \"name\": \"Dunn\" },\n",
    "{ \"id\": 2, \"name\": \"Sue\" },\n",
    "{ \"id\": 3, \"name\": \"Chi\" },\n",
    "{ \"id\": 4, \"name\": \"Thor\" },\n",
    "{ \"id\": 5, \"name\": \"Clive\" },\n",
    "{ \"id\": 6, \"name\": \"Hicks\" },\n",
    "{ \"id\": 7, \"name\": \"Devin\" },\n",
    "{ \"id\": 8, \"name\": \"Kate\" },\n",
    "{ \"id\": 9, \"name\": \"Klein\" }\n",
    "]\n",
    "\n",
    "friendships = [(0, 1), (0, 2), (1, 2), (1, 3), (2, 3), (3, 4),(4, 5), (5, 6), (5, 7), (6, 8), (7, 8), (8, 9)]\n",
    "\n",
    "#1. For example, we might want to add a list of friends to each user. \n",
    "# First we set each user’s friends property to an empty list:\n",
    "for user in users:\n",
    "    user[\"friends\"] = []\n",
    "\n",
    "for i, j in friendships:\n",
    "    # this works because users[i] is the user whose id is i\n",
    "    users[i][\"friends\"].append(users[j]) \t# add i as a friend of j\n",
    "    users[j][\"friends\"].append(users[i]) \t# add j as a friend of i\n",
    "\n",
    "#2.\n",
    "# Once each user dict contains a list of friends, we can easily ask questions of our graph, like \"what’s the average \n",
    "# number of connections?\" First we find the total number of connections, by summing up the lengths of all the friends lists:\n",
    "def number_of_friends(user):\n",
    "    \"\"\"how many friends does _user_ have?\"\"\"\n",
    "#    print len(user[\"friends\"])\n",
    "    return len(user[\"friends\"])\t\t\t\t\t         # length of friend_ids list\n",
    "total_connections = sum(number_of_friends(user) for user in users) \t # 24\n",
    "# print 'total_connections are %r ' %total_connections\n",
    "\n",
    "# And then we just divide by the number of users:\n",
    "num_users = len(users) \t\t\t\t\t# length of the users list\n",
    "avg_connections = total_connections / num_users\t# 2.4\n",
    "# print 'avg_connections are %r' %avg_connections\n",
    "\n",
    "\n",
    "#3.\n",
    "# It’s also easy to find the most connected people - they’re the people who have the largest number of friends.\n",
    "# Since there aren’t very many users, we can sort them from \"most friends\" to \"least friends\":\n",
    "# create a list (user_id, number_of_friends)\n",
    "num_friends_by_id=[(user['id'],number_of_friends(user)) for user in users]\n",
    "# print sorted(num_friends_by_id,          # get it sorted\n",
    "#             key=lambda x:x[1],          # by num_friends\n",
    "#             reverse=True)               # largest to smallest         \n",
    "\n",
    "\n",
    "#4.\n",
    "#VP asks you to design a \"Data Scientists You May Know\" suggester. Your first instinct is to suggest that a user might know \n",
    "# the friends of friends. These are easy to compute: for each of a user’s friends, iterate over that person’s friends, \n",
    "# and collect all the results:\n",
    "def friends_of_friend_ids_bad(user):\n",
    "    # \"foaf\" is short for \"friend of a friend\"\n",
    "    return [foaf['id']\n",
    "            for friend in user['friends']    # for each of user's friends\n",
    "            for foaf in friend['friends']]   # get each of _their_ friends\n",
    "# print friends_of_friend_ids_bad(users[0]) \n",
    "\n",
    "\n",
    "# ???? skipped the remaining chapter right now. However should be completed later.\n"
   ]
  }
 ],
 "metadata": {
  "kernelspec": {
   "display_name": "Python 2",
   "language": "python",
   "name": "python2"
  },
  "language_info": {
   "codemirror_mode": {
    "name": "ipython",
    "version": 2
   },
   "file_extension": ".py",
   "mimetype": "text/x-python",
   "name": "python",
   "nbconvert_exporter": "python",
   "pygments_lexer": "ipython2",
   "version": "2.7.13"
  }
 },
 "nbformat": 4,
 "nbformat_minor": 2
}
